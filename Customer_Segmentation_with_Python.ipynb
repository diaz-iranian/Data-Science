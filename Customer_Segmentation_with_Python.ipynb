{
  "nbformat": 4,
  "nbformat_minor": 0,
  "metadata": {
    "colab": {
      "name": " Customer Segmentation with Python",
      "provenance": []
    },
    "kernelspec": {
      "name": "python3",
      "display_name": "Python 3"
    }
  },
  "cells": [
    {
      "cell_type": "markdown",
      "metadata": {
        "id": "lPvrXhJqQ5LS"
      },
      "source": [
        "# Mempersiapkan Library"
      ]
    },
    {
      "cell_type": "code",
      "metadata": {
        "id": "L-wEWCgeQ9vi"
      },
      "source": [
        "import pandas as pd  \r\n",
        "import matplotlib.pyplot as plt  \r\n",
        "import seaborn as sns  \r\n",
        "from sklearn.preprocessing import LabelEncoder  \r\n",
        "  \r\n",
        "from kmodes.kmodes import KModes  \r\n",
        "from kmodes.kprototypes import KPrototypes  \r\n",
        "  \r\n",
        "import pickle  \r\n",
        "from pathlib import Path "
      ],
      "execution_count": 3,
      "outputs": []
    },
    {
      "cell_type": "code",
      "metadata": {
        "colab": {
          "base_uri": "https://localhost:8080/"
        },
        "id": "sriWhhc5_rmV",
        "outputId": "f94b7dd7-6b5d-4f9e-82d6-7f4708144aa5"
      },
      "source": [
        "pip install --upgrade kmodes"
      ],
      "execution_count": 31,
      "outputs": [
        {
          "output_type": "stream",
          "text": [
            "Requirement already up-to-date: kmodes in /usr/local/lib/python3.7/dist-packages (0.11.0)\n",
            "Requirement already satisfied, skipping upgrade: joblib>=0.11 in /usr/local/lib/python3.7/dist-packages (from kmodes) (1.0.1)\n",
            "Requirement already satisfied, skipping upgrade: scikit-learn>=0.22.0 in /usr/local/lib/python3.7/dist-packages (from kmodes) (0.22.2.post1)\n",
            "Requirement already satisfied, skipping upgrade: scipy>=0.13.3 in /usr/local/lib/python3.7/dist-packages (from kmodes) (1.4.1)\n",
            "Requirement already satisfied, skipping upgrade: numpy>=1.10.4 in /usr/local/lib/python3.7/dist-packages (from kmodes) (1.19.5)\n"
          ],
          "name": "stdout"
        }
      ]
    },
    {
      "cell_type": "code",
      "metadata": {
        "colab": {
          "base_uri": "https://localhost:8080/"
        },
        "id": "qb_DCCvwU7mo",
        "outputId": "c79768f8-9262-4e13-a068-e2d1cb69f10a"
      },
      "source": [
        "# import dataset  \r\n",
        "df = pd.read_csv(\"https://storage.googleapis.com/dqlab-dataset/customer_segments.txt\", sep=\"\\t\")  \r\n",
        "  \r\n",
        "# menampilkan data  \r\n",
        "print(df.head())"
      ],
      "execution_count": 4,
      "outputs": [
        {
          "output_type": "stream",
          "text": [
            "  Customer_ID       Nama Pelanggan  ... Tipe Residen  NilaiBelanjaSetahun\n",
            "0    CUST-001         Budi Anggara  ...       Sector              9497927\n",
            "1    CUST-002     Shirley Ratuwati  ...      Cluster              2722700\n",
            "2    CUST-003         Agus Cahyono  ...      Cluster              5286429\n",
            "3    CUST-004     Antonius Winarta  ...      Cluster              5204498\n",
            "4    CUST-005  Ibu Sri Wahyuni, IR  ...      Cluster             10615206\n",
            "\n",
            "[5 rows x 7 columns]\n"
          ],
          "name": "stdout"
        }
      ]
    },
    {
      "cell_type": "code",
      "metadata": {
        "colab": {
          "base_uri": "https://localhost:8080/"
        },
        "id": "byPR9z_WXIvl",
        "outputId": "99a75ddb-acc3-46a4-d280-0c6362d3fb59"
      },
      "source": [
        "df.info()"
      ],
      "execution_count": 5,
      "outputs": [
        {
          "output_type": "stream",
          "text": [
            "<class 'pandas.core.frame.DataFrame'>\n",
            "RangeIndex: 50 entries, 0 to 49\n",
            "Data columns (total 7 columns):\n",
            " #   Column               Non-Null Count  Dtype \n",
            "---  ------               --------------  ----- \n",
            " 0   Customer_ID          50 non-null     object\n",
            " 1   Nama Pelanggan       50 non-null     object\n",
            " 2   Jenis Kelamin        50 non-null     object\n",
            " 3   Umur                 50 non-null     int64 \n",
            " 4   Profesi              50 non-null     object\n",
            " 5   Tipe Residen         50 non-null     object\n",
            " 6   NilaiBelanjaSetahun  50 non-null     int64 \n",
            "dtypes: int64(2), object(5)\n",
            "memory usage: 2.9+ KB\n"
          ],
          "name": "stdout"
        }
      ]
    },
    {
      "cell_type": "code",
      "metadata": {
        "colab": {
          "base_uri": "https://localhost:8080/"
        },
        "id": "SqnuOw6ZXc9T",
        "outputId": "a08e992e-1885-4473-bac3-221556e9a0b1"
      },
      "source": [
        "df.shape"
      ],
      "execution_count": null,
      "outputs": [
        {
          "output_type": "execute_result",
          "data": {
            "text/plain": [
              "(50, 7)"
            ]
          },
          "metadata": {
            "tags": []
          },
          "execution_count": 11
        }
      ]
    },
    {
      "cell_type": "markdown",
      "metadata": {
        "id": "aReE_4ChX2ni"
      },
      "source": [
        "# Explorasi Data Analysis"
      ]
    },
    {
      "cell_type": "code",
      "metadata": {
        "colab": {
          "base_uri": "https://localhost:8080/",
          "height": 1000
        },
        "id": "QbxK2ftnX6x7",
        "outputId": "7b02f7a8-fca7-4d4d-ebb5-f82664384b7b"
      },
      "source": [
        "sns.set(style='white')\r\n",
        "plt.clf()\r\n",
        "  \r\n",
        "# Fungsi untuk membuat plot  \r\n",
        "def observasi_num(features):  \r\n",
        "    fig, axs = plt.subplots(2, 2, figsize=(10, 9))\r\n",
        "    for i, kol in enumerate(features):\r\n",
        "\t    sns.boxplot(df[kol], ax = axs[i][0])\r\n",
        "\t    sns.distplot(df[kol], ax = axs[i][1])   \r\n",
        "\t    axs[i][0].set_title('mean = %.2f\\n median = %.2f\\n std = %.2f'%(df[kol].mean(), df[kol].median(), df[kol].std()))\r\n",
        "    plt.setp(axs)\r\n",
        "    plt.tight_layout()\r\n",
        "    plt.show()  \r\n",
        "  \r\n",
        "# Memanggil fungsi untuk membuat Plot untuk data numerik  \r\n",
        "kolom_numerik = ['Umur','NilaiBelanjaSetahun'] \r\n",
        "observasi_num(kolom_numerik ) "
      ],
      "execution_count": 6,
      "outputs": [
        {
          "output_type": "stream",
          "text": [
            "/usr/local/lib/python3.7/dist-packages/seaborn/_decorators.py:43: FutureWarning: Pass the following variable as a keyword arg: x. From version 0.12, the only valid positional argument will be `data`, and passing other arguments without an explicit keyword will result in an error or misinterpretation.\n",
            "  FutureWarning\n",
            "/usr/local/lib/python3.7/dist-packages/seaborn/distributions.py:2557: FutureWarning: `distplot` is a deprecated function and will be removed in a future version. Please adapt your code to use either `displot` (a figure-level function with similar flexibility) or `histplot` (an axes-level function for histograms).\n",
            "  warnings.warn(msg, FutureWarning)\n",
            "/usr/local/lib/python3.7/dist-packages/seaborn/_decorators.py:43: FutureWarning: Pass the following variable as a keyword arg: x. From version 0.12, the only valid positional argument will be `data`, and passing other arguments without an explicit keyword will result in an error or misinterpretation.\n",
            "  FutureWarning\n",
            "/usr/local/lib/python3.7/dist-packages/seaborn/distributions.py:2557: FutureWarning: `distplot` is a deprecated function and will be removed in a future version. Please adapt your code to use either `displot` (a figure-level function with similar flexibility) or `histplot` (an axes-level function for histograms).\n",
            "  warnings.warn(msg, FutureWarning)\n"
          ],
          "name": "stderr"
        },
        {
          "output_type": "stream",
          "text": [
            "  adjustable: {'box', 'datalim'}\n",
            "  agg_filter: a filter function, which takes a (m, n, 3) float array and a dpi value, and returns a (m, n, 3) array\n",
            "  alpha: float or None\n",
            "  anchor: 2-tuple of floats or {'C', 'SW', 'S', 'SE', ...}\n",
            "  animated: bool\n",
            "  aspect: {'auto', 'equal'} or num\n",
            "  autoscale_on: bool\n",
            "  autoscalex_on: bool\n",
            "  autoscaley_on: bool\n",
            "  axes_locator: Callable[[Axes, Renderer], Bbox]\n",
            "  axisbelow: bool or 'line'\n",
            "  clip_box: `.Bbox`\n",
            "  clip_on: bool\n",
            "  clip_path: Patch or (Path, Transform) or None\n",
            "  contains: callable\n",
            "  facecolor: color\n",
            "  fc: color\n",
            "  figure: `.Figure`\n",
            "  frame_on: bool\n",
            "  gid: str\n",
            "  in_layout: bool\n",
            "  label: object\n",
            "  navigate: bool\n",
            "  navigate_mode: unknown\n",
            "  path_effects: `.AbstractPathEffect`\n",
            "  picker: None or bool or float or callable\n",
            "  position: [left, bottom, width, height] or `~matplotlib.transforms.Bbox`\n",
            "  prop_cycle: unknown\n",
            "  rasterization_zorder: float or None\n",
            "  rasterized: bool or None\n",
            "  sketch_params: (scale: float, length: float, randomness: float)\n",
            "  snap: bool or None\n",
            "  subplotspec: unknown\n",
            "  title: str\n",
            "  transform: `.Transform`\n",
            "  url: str\n",
            "  visible: bool\n",
            "  xbound: unknown\n",
            "  xlabel: str\n",
            "  xlim: (bottom: float, top: float)\n",
            "  xmargin: float greater than -0.5\n",
            "  xscale: {\"linear\", \"log\", \"symlog\", \"logit\", ...}\n",
            "  xticklabels: List[str]\n",
            "  xticks: unknown\n",
            "  ybound: unknown\n",
            "  ylabel: str\n",
            "  ylim: (bottom: float, top: float)\n",
            "  ymargin: float greater than -0.5\n",
            "  yscale: {\"linear\", \"log\", \"symlog\", \"logit\", ...}\n",
            "  yticklabels: List[str]\n",
            "  yticks: unknown\n",
            "  zorder: float\n"
          ],
          "name": "stdout"
        },
        {
          "output_type": "display_data",
          "data": {
            "text/plain": [
              "<Figure size 432x288 with 0 Axes>"
            ]
          },
          "metadata": {
            "tags": []
          }
        },
        {
          "output_type": "display_data",
          "data": {
            "image/png": "[encoded data removed]",
            "text/plain": [
              "<Figure size 720x648 with 4 Axes>"
            ]
          },
          "metadata": {
            "tags": []
          }
        }
      ]
    },
    {
      "cell_type": "code",
      "metadata": {
        "colab": {
          "base_uri": "https://localhost:8080/",
          "height": 864
        },
        "id": "TAKC2G715TzH",
        "outputId": "06e2b376-f454-432c-cf7e-d0f940d87317"
      },
      "source": [
        "\r\n",
        "import matplotlib.pyplot as plt\r\n",
        "import seaborn as sns\r\n",
        "sns.set(style='white')\r\n",
        "plt.clf()\r\n",
        "\r\n",
        "# Menyiapkan kolom kategorikal\r\n",
        "kolom_kategorikal = ['Jenis Kelamin','Profesi','Tipe Residen']\r\n",
        "\r\n",
        "# Membuat canvas\r\n",
        "fig, axs = plt.subplots(3,1,figsize=(7,10))\r\n",
        "\r\n",
        "# Membuat plot untuk setiap kolom kategorikal\r\n",
        "for i, kol in enumerate(kolom_kategorikal):\r\n",
        "# Membuat Plot\r\n",
        "    sns.countplot(df[kol], order = df[kol].value_counts().index, ax = axs[i])\r\n",
        "    axs[i].set_title('\\nCount Plot %s\\n'%(kol), fontsize=15)\r\n",
        "\r\n",
        "# Memberikan anotasi\r\n",
        "for p in axs[i].patches:\r\n",
        "    axs[i].annotate(format(p.get_height(), '.0f'),\r\n",
        "    (p.get_x() + p.get_width() / 2., p.get_height()),\r\n",
        "    ha = 'center',\r\n",
        "    va = 'center',\r\n",
        "    xytext = (0, 10),\r\n",
        "    textcoords = 'offset points')\r\n",
        "\r\n",
        "# Setting Plot\r\n",
        "sns.despine(right=True,top = True, left = True)\r\n",
        "axs[i].axes.yaxis.set_visible(False)\r\n",
        "plt.tight_layout()\r\n",
        "\r\n",
        "# Tampilkan plot\r\n",
        "plt.show()"
      ],
      "execution_count": 7,
      "outputs": [
        {
          "output_type": "stream",
          "text": [
            "/usr/local/lib/python3.7/dist-packages/seaborn/_decorators.py:43: FutureWarning: Pass the following variable as a keyword arg: x. From version 0.12, the only valid positional argument will be `data`, and passing other arguments without an explicit keyword will result in an error or misinterpretation.\n",
            "  FutureWarning\n",
            "/usr/local/lib/python3.7/dist-packages/seaborn/_decorators.py:43: FutureWarning: Pass the following variable as a keyword arg: x. From version 0.12, the only valid positional argument will be `data`, and passing other arguments without an explicit keyword will result in an error or misinterpretation.\n",
            "  FutureWarning\n",
            "/usr/local/lib/python3.7/dist-packages/seaborn/_decorators.py:43: FutureWarning: Pass the following variable as a keyword arg: x. From version 0.12, the only valid positional argument will be `data`, and passing other arguments without an explicit keyword will result in an error or misinterpretation.\n",
            "  FutureWarning\n"
          ],
          "name": "stderr"
        },
        {
          "output_type": "display_data",
          "data": {
            "text/plain": [
              "<Figure size 432x288 with 0 Axes>"
            ]
          },
          "metadata": {
            "tags": []
          }
        },
        {
          "output_type": "display_data",
          "data": {
            "image/png": "[encoded data removed]",
            "text/plain": [
              "<Figure size 504x720 with 3 Axes>"
            ]
          },
          "metadata": {
            "tags": []
          }
        }
      ]
    },
    {
      "cell_type": "markdown",
      "metadata": {
        "id": "Ol0HSv4-7xFq"
      },
      "source": [
        "# Kesimpulan\r\n",
        "Dari hasil explorasi data tersebut kamu dapat mendapatkan informasi:\r\n",
        "\r\n",
        "* rata-rata dari umur pelanggan adalah 37.5 tahun\r\n",
        "* Rata-rata dari nilai belanja setahun pelanggan adalah 7,069,874.82\r\n",
        "* Jenis kelamin pelanggan di dominasi oleh wanita sebanyak 41 orang (82%) dan laki-laki sebanyak 9 orang (18%)\r\n",
        "* Profesi terbanyak adalah Wiraswasta (40%) diikuti dengan Professional (36%) dan lainnya sebanyak (24%)\r\n",
        "* Dari seluruh pelanggan 64% dari mereka tinggal di cluster dan 36% nya tinggal di sektor"
      ]
    },
    {
      "cell_type": "markdown",
      "metadata": {
        "id": "545VZgvj_5u3"
      },
      "source": [
        "# Mempersiapkan Data sebelum Pemodelan\r\n",
        "\r\n",
        "Setiap machine learning model memiliki karakteristik yang berbeda-beda. Hal ini membuat kamu harus mempersiapkan data yang kamu miliki sebelum digunakan untuk melakukan permodelan. Sehingga dapat menyesuaikan dengan karakteristik yang dimiliki oleh tiap model dan mendapatkan hasil yang optimal.\r\n",
        "\r\n",
        "Kamu berencana akan melakukan permodelan dengan menggunakan teknik unsupervised clustering. Algoritma yang akan di gunakan adalah K-Prototypes. Salah satu faktor utama dalam algoritma ini adalah kamu perlu menggunakan data yang skala antar variabel nya setara. Selain itu kita juga perlu melakukan encoding kolom - kolom kategorikal yang di miliki menjadi numerik. Kemudian menggabungkan hasil pemrosesan data tersebut menjadi satu data frame untuk di gunakan dalam permodelan."
      ]
    },
    {
      "cell_type": "markdown",
      "metadata": {
        "id": "1hhc50xKBx3N"
      },
      "source": [
        "# Standarisasi Kolom Numerik"
      ]
    },
    {
      "cell_type": "code",
      "metadata": {
        "colab": {
          "base_uri": "https://localhost:8080/"
        },
        "id": "MJI8NY7KB1bl",
        "outputId": "2f5bf2cb-0dd3-4099-c517-ddd899c72cf1"
      },
      "source": [
        "from sklearn.preprocessing import StandardScaler  \r\n",
        "  \r\n",
        "kolom_numerik = ['Umur','NilaiBelanjaSetahun']  \r\n",
        "  \r\n",
        "# Statistik sebelum Standardisasi  \r\n",
        "print('Statistik Sebelum Standardisasi\\n')  \r\n",
        "print(df[kolom_numerik].describe().round(1))  \r\n",
        "  \r\n",
        "# Standardisasi  \r\n",
        "df_std = StandardScaler().fit_transform(df[kolom_numerik])  \r\n",
        "  \r\n",
        "# Membuat DataFrame  \r\n",
        "df_std = pd.DataFrame(data=df_std, index=df.index, columns=df[kolom_numerik].columns)  \r\n",
        "  \r\n",
        "# Menampilkan contoh isi data dan summary statistic  \r\n",
        "print('Contoh hasil standardisasi\\n')  \r\n",
        "print(df_std.head())  \r\n",
        "  \r\n",
        "print('Statistik hasil standardisasi\\n')  \r\n",
        "print(df_std.describe().round(0))  \r\n"
      ],
      "execution_count": 13,
      "outputs": [
        {
          "output_type": "stream",
          "text": [
            "Statistik Sebelum Standardisasi\n",
            "\n",
            "       Umur  NilaiBelanjaSetahun\n",
            "count  50.0                 50.0\n",
            "mean   37.5            7069874.8\n",
            "std    14.7            2590619.0\n",
            "min    14.0            2722700.0\n",
            "25%    25.0            5257529.8\n",
            "50%    35.0            5980077.0\n",
            "75%    49.8            9739615.0\n",
            "max    64.0           10884508.0\n",
            "Contoh hasil standardisasi\n",
            "\n",
            "       Umur  NilaiBelanjaSetahun\n",
            "0  1.411245             0.946763\n",
            "1 -1.617768            -1.695081\n",
            "2  0.722833            -0.695414\n",
            "3  1.067039            -0.727361\n",
            "4  0.240944             1.382421\n",
            "Statistik hasil standardisasi\n",
            "\n",
            "       Umur  NilaiBelanjaSetahun\n",
            "count  50.0                 50.0\n",
            "mean    0.0                 -0.0\n",
            "std     1.0                  1.0\n",
            "min    -2.0                 -2.0\n",
            "25%    -1.0                 -1.0\n",
            "50%    -0.0                 -0.0\n",
            "75%     1.0                  1.0\n",
            "max     2.0                  1.0\n"
          ],
          "name": "stdout"
        }
      ]
    },
    {
      "cell_type": "markdown",
      "metadata": {
        "id": "mLNmiAJEEh76"
      },
      "source": [
        "# Konversi Kategorikal Data dengan Label Encoder"
      ]
    },
    {
      "cell_type": "code",
      "metadata": {
        "colab": {
          "base_uri": "https://localhost:8080/"
        },
        "id": "-YbrwTgFEjMk",
        "outputId": "50f8904d-b87c-460f-fbe0-d83f89828d0a"
      },
      "source": [
        "from sklearn.preprocessing import StandardScaler\r\n",
        "  \r\n",
        "# Inisiasi nama kolom kategorikal  \r\n",
        "kolom_kategorikal = ['Jenis Kelamin','Profesi','Tipe Residen']  \r\n",
        "  \r\n",
        "# Membuat salinan data frame  \r\n",
        "df_encode = df[kolom_kategorikal].copy()  \r\n",
        "  \r\n",
        "  \r\n",
        "# Melakukan labelEncoder untuk semua kolom kategorikal  \r\n",
        "for col in kolom_kategorikal:  \r\n",
        "    df_encode[col] = LabelEncoder().fit_transform(df_encode[col])\r\n",
        "      \r\n",
        "# Menampilkan data  \r\n",
        "print(df_encode.head())\r\n"
      ],
      "execution_count": 24,
      "outputs": [
        {
          "output_type": "stream",
          "text": [
            "   Jenis Kelamin  Profesi  Tipe Residen\n",
            "0              0        4             1\n",
            "1              1        2             0\n",
            "2              0        3             0\n",
            "3              0        3             0\n",
            "4              1        4             0\n"
          ],
          "name": "stdout"
        }
      ]
    },
    {
      "cell_type": "markdown",
      "metadata": {
        "id": "SyPAgi6oJHdO"
      },
      "source": [
        "# Menggabungkan Data Untuk Pemodelan"
      ]
    },
    {
      "cell_type": "code",
      "metadata": {
        "colab": {
          "base_uri": "https://localhost:8080/"
        },
        "id": "A_Ayu343JKy1",
        "outputId": "90d682f0-a0cd-4467-ddeb-13e4cbdf5000"
      },
      "source": [
        "# Menggabungkan data frame\r\n",
        "df_model = df_encode.merge(df_std, left_index =True, right_index=True, how= 'left')  \r\n",
        "print(df_model.head())\r\n"
      ],
      "execution_count": 30,
      "outputs": [
        {
          "output_type": "stream",
          "text": [
            "   Jenis Kelamin  Profesi  Tipe Residen      Umur  NilaiBelanjaSetahun\n",
            "0              0        4             1  1.411245             0.946763\n",
            "1              1        2             0 -1.617768            -1.695081\n",
            "2              0        3             0  0.722833            -0.695414\n",
            "3              0        3             0  1.067039            -0.727361\n",
            "4              1        4             0  0.240944             1.382421\n"
          ],
          "name": "stdout"
        }
      ]
    },
    {
      "cell_type": "markdown",
      "metadata": {
        "id": "82-pZ6wrP_Ms"
      },
      "source": [
        "# Mencari Jumlah Cluster yang Optimal"
      ]
    },
    {
      "cell_type": "code",
      "metadata": {
        "colab": {
          "base_uri": "https://localhost:8080/",
          "height": 268
        },
        "id": "iOYzWgAXQCz0",
        "outputId": "61d9dfaa-2304-4529-d09a-636bb31a7ad8"
      },
      "source": [
        "# Melakukan Iterasi untuk Mendapatkan nilai Cost  \r\n",
        "cost = {}  \r\n",
        "for k in range(2,10):  \r\n",
        "    kproto =KPrototypes(n_clusters = k,random_state=75)  \r\n",
        "    kproto.fit_predict(df_model, categorical=[0,1,2])  \r\n",
        "    cost[k]= kproto.cost_  \r\n",
        "  \r\n",
        "# Memvisualisasikan Elbow Plot  \r\n",
        "sns.pointplot(x=list(cost.keys()), y=list(cost.values()))  \r\n",
        "plt.show()\r\n"
      ],
      "execution_count": 33,
      "outputs": [
        {
          "output_type": "display_data",
          "data": {
            "image/png": "[encoded data removed]",
            "text/plain": [
              "<Figure size 432x288 with 1 Axes>"
            ]
          },
          "metadata": {
            "tags": []
          }
        }
      ]
    },
    {
      "cell_type": "markdown",
      "metadata": {
        "id": "jS64zDbfT5ZI"
      },
      "source": [
        "# Membuat Model"
      ]
    },
    {
      "cell_type": "code",
      "metadata": {
        "id": "AB2ASP9xT9R9"
      },
      "source": [
        "kproto = KPrototypes(n_clusters = 5, random_state = 75)  \r\n",
        "kproto = kproto.fit(df_model, categorical=[0,1,2])  \r\n",
        "  \r\n",
        "#Save Model  \r\n",
        "pickle.dump(kproto, open('cluster.pkl', 'wb'))  \r\n"
      ],
      "execution_count": 34,
      "outputs": []
    },
    {
      "cell_type": "markdown",
      "metadata": {
        "id": "DOR2dZKdWnBo"
      },
      "source": [
        "# Menggunakan Model"
      ]
    },
    {
      "cell_type": "code",
      "metadata": {
        "colab": {
          "base_uri": "https://localhost:8080/"
        },
        "id": "IyRA8WpXWpAv",
        "outputId": "9c8a14ce-73b1-4ac3-a80c-8a93a8ae0a26"
      },
      "source": [
        "# Menentukan segmen tiap pelanggan    \r\n",
        "clusters =  kproto.predict(df_model, categorical=[0,1,2])    \r\n",
        "print('segmen pelanggan: {}\\n'.format(clusters))    \r\n",
        "    \r\n",
        "# Menggabungkan data awal dan segmen pelanggan    \r\n",
        "df_final = df.copy()    \r\n",
        "df_final['cluster'] = clusters\r\n",
        "print(df_final.head())   \r\n"
      ],
      "execution_count": 35,
      "outputs": [
        {
          "output_type": "stream",
          "text": [
            "segmen pelanggan: [1 0 2 2 3 4 1 2 4 4 2 2 1 1 3 4 4 2 3 0 3 2 4 3 3 2 3 4 2 2 0 1 0 3 4 3 4\n",
            " 1 4 0 4 3 4 3 4 3 2 1 4 1]\n",
            "\n",
            "  Customer_ID       Nama Pelanggan  ... NilaiBelanjaSetahun  cluster\n",
            "0    CUST-001         Budi Anggara  ...             9497927        1\n",
            "1    CUST-002     Shirley Ratuwati  ...             2722700        0\n",
            "2    CUST-003         Agus Cahyono  ...             5286429        2\n",
            "3    CUST-004     Antonius Winarta  ...             5204498        2\n",
            "4    CUST-005  Ibu Sri Wahyuni, IR  ...            10615206        3\n",
            "\n",
            "[5 rows x 8 columns]\n"
          ],
          "name": "stdout"
        }
      ]
    },
    {
      "cell_type": "markdown",
      "metadata": {
        "id": "pqSR_MFVXZia"
      },
      "source": [
        "# Menampilkan cluster tiap pelanggan"
      ]
    },
    {
      "cell_type": "code",
      "metadata": {
        "colab": {
          "base_uri": "https://localhost:8080/"
        },
        "id": "g1lBHbhJYENa",
        "outputId": "c344ffb5-f550-45e8-e231-af1f02c4bb87"
      },
      "source": [
        "# Menampilkan data pelanggan berdasarkan cluster nya  \r\n",
        "for i in range (0,5):\r\n",
        "  print('\\nPelanggan cluster: {}\\n'.format(i))  \r\n",
        "  print(df_final[df_final['cluster']== i])"
      ],
      "execution_count": 38,
      "outputs": [
        {
          "output_type": "stream",
          "text": [
            "\n",
            "Pelanggan cluster: 0\n",
            "\n",
            "   Customer_ID    Nama Pelanggan  ... NilaiBelanjaSetahun  cluster\n",
            "1     CUST-002  Shirley Ratuwati  ...             2722700        0\n",
            "19    CUST-020    Irene Novianto  ...             2896845        0\n",
            "30    CUST-031     Eviana Handry  ...             3042773        0\n",
            "32    CUST-033   Cecilia Kusnadi  ...             3047926        0\n",
            "39    CUST-040    Irene Darmawan  ...             2861855        0\n",
            "\n",
            "[5 rows x 8 columns]\n",
            "\n",
            "Pelanggan cluster: 1\n",
            "\n",
            "   Customer_ID    Nama Pelanggan  ... NilaiBelanjaSetahun  cluster\n",
            "0     CUST-001      Budi Anggara  ...             9497927        1\n",
            "6     CUST-007     Cahyono, Agus  ...             9837260        1\n",
            "12    CUST-013      Cahaya Putri  ...             9333168        1\n",
            "13    CUST-014    Mario Setiawan  ...             9471615        1\n",
            "31    CUST-032   Chintya Winarni  ...            10663179        1\n",
            "37    CUST-038      Agatha Salim  ...            10477127        1\n",
            "47    CUST-048  Maria Hutagalung  ...            10390732        1\n",
            "49    CUST-050    Lianna Nugraha  ...            10569316        1\n",
            "\n",
            "[8 rows x 8 columns]\n",
            "\n",
            "Pelanggan cluster: 2\n",
            "\n",
            "   Customer_ID     Nama Pelanggan  ... NilaiBelanjaSetahun  cluster\n",
            "2     CUST-003       Agus Cahyono  ...             5286429        2\n",
            "3     CUST-004   Antonius Winarta  ...             5204498        2\n",
            "7     CUST-008     Danang Santosa  ...             5223569        2\n",
            "10    CUST-011     Maria Suryawan  ...             5987367        2\n",
            "11    CUST-012    Erliana Widjaja  ...             5941914        2\n",
            "17    CUST-018        Nelly Halim  ...             5340690        2\n",
            "21    CUST-022       Novita Purba  ...             5298157        2\n",
            "25    CUST-026  Christine Winarto  ...             5269392        2\n",
            "28    CUST-029       Tia Hartanti  ...             5271845        2\n",
            "29    CUST-030     Rosita Saragih  ...             5020976        2\n",
            "46    CUST-047        Mira Kurnia  ...             6130724        2\n",
            "\n",
            "[11 rows x 8 columns]\n",
            "\n",
            "Pelanggan cluster: 3\n",
            "\n",
            "   Customer_ID       Nama Pelanggan  ... NilaiBelanjaSetahun  cluster\n",
            "4     CUST-005  Ibu Sri Wahyuni, IR  ...            10615206        3\n",
            "14    CUST-015     Shirley Ratuwati  ...            10365668        3\n",
            "18    CUST-019         Mega Pranoto  ...            10884508        3\n",
            "20    CUST-021     Lestari Fabianto  ...             9222070        3\n",
            "23    CUST-024        Putri Ginting  ...            10259572        3\n",
            "24    CUST-025       Julia Setiawan  ...            10721998        3\n",
            "26    CUST-027        Grace Mulyati  ...             9114159        3\n",
            "33    CUST-034       Deasy Arisandi  ...             9759822        3\n",
            "35    CUST-036       Ni Made Suasti  ...             9678994        3\n",
            "41    CUST-042         Yuliana Wati  ...             9880607        3\n",
            "43    CUST-044                 Anna  ...             9339737        3\n",
            "45    CUST-046         Elfira Surya  ...            10099807        3\n",
            "\n",
            "[12 rows x 8 columns]\n",
            "\n",
            "Pelanggan cluster: 4\n",
            "\n",
            "   Customer_ID         Nama Pelanggan  ... NilaiBelanjaSetahun  cluster\n",
            "5     CUST-006        Rosalina Kurnia  ...             5215541        4\n",
            "8     CUST-009  Elisabeth Suryadinata  ...             5993218        4\n",
            "9     CUST-010         Mario Setiawan  ...             5257448        4\n",
            "15    CUST-016           Bambang Rudi  ...             5262521        4\n",
            "16    CUST-017              Yuni Sari  ...             5677762        4\n",
            "22    CUST-023        Denny Amiruddin  ...             5239290        4\n",
            "27    CUST-028          Adeline Huang  ...             6631680        4\n",
            "34    CUST-035                Ida Ayu  ...             5962575        4\n",
            "36    CUST-037       Felicia Tandiono  ...             5972787        4\n",
            "38    CUST-039           Gina Hidayat  ...             5257775        4\n",
            "40    CUST-041       Shinta Aritonang  ...             6820976        4\n",
            "42    CUST-043           Yenna Sumadi  ...             5268410        4\n",
            "44    CUST-045         Rismawati Juni  ...             5211041        4\n",
            "48    CUST-049        Josephine Wahab  ...             4992585        4\n",
            "\n",
            "[14 rows x 8 columns]\n"
          ],
          "name": "stdout"
        }
      ]
    },
    {
      "cell_type": "markdown",
      "metadata": {
        "id": "boKnTSDOueqJ"
      },
      "source": [
        "# Visualisasi Hasil Clustering Box Plot"
      ]
    },
    {
      "cell_type": "code",
      "metadata": {
        "colab": {
          "base_uri": "https://localhost:8080/",
          "height": 645
        },
        "id": "cqoPP0BjujiV",
        "outputId": "e7885ba8-5218-4e7c-d3dc-0d7adff0f120"
      },
      "source": [
        "# Data Numerical\r\n",
        "kolom_numerik = ['Umur','NilaiBelanjaSetahun']  \r\n",
        "  \r\n",
        "for i in kolom_numerik:  \r\n",
        "    plt.figure(figsize=(6,4))  \r\n",
        "    ax = sns.boxplot(x = 'cluster', y = i, data = df_final)  \r\n",
        "    plt.title('\\nBox Plot {}\\n'.format(i), fontsize=12)  \r\n",
        "    plt.show() \r\n"
      ],
      "execution_count": 42,
      "outputs": [
        {
          "output_type": "display_data",
          "data": {
            "image/png": "[encoded data removed]",
            "text/plain": [
              "<Figure size 432x288 with 1 Axes>"
            ]
          },
          "metadata": {
            "tags": []
          }
        },
        {
          "output_type": "display_data",
          "data": {
            "image/png": "[encoded data removed]",
            "text/plain": [
              "<Figure size 432x288 with 1 Axes>"
            ]
          },
          "metadata": {
            "tags": []
          }
        }
      ]
    },
    {
      "cell_type": "markdown",
      "metadata": {
        "id": "e_YX7Ax9vwRf"
      },
      "source": [
        "# Visualisasi Hasil Clustering - Count Plot"
      ]
    },
    {
      "cell_type": "code",
      "metadata": {
        "colab": {
          "base_uri": "https://localhost:8080/",
          "height": 959
        },
        "id": "vIBOFhE-vx4F",
        "outputId": "4e275ac1-8117-4652-a474-29c78b41249b"
      },
      "source": [
        " # Data Kategorikal  \r\n",
        "kolom_categorical = ['Jenis Kelamin','Profesi','Tipe Residen']  \r\n",
        "  \r\n",
        "for i in kolom_categorical:  \r\n",
        "    plt.figure(figsize=(6,4))  \r\n",
        "    ax = sns.countplot(data = df_final, x = 'cluster', hue = i )  \r\n",
        "    plt.title('\\nCount Plot {}\\n'.format(i), fontsize=12)  \r\n",
        "    ax.legend(loc=\"upper center\")  \r\n",
        "    for p in ax.patches:  \r\n",
        "        ax.annotate(format(p.get_height(), '.0f'),  \r\n",
        "                    (p.get_x() + p.get_width() / 2., p.get_height()),  \r\n",
        "                     ha = 'center',  \r\n",
        "                     va = 'center',  \r\n",
        "                     xytext = (0, 10),  \r\n",
        "                     textcoords = 'offset points')  \r\n",
        "      \r\n",
        "    sns.despine(right=True,top = True, left = True)  \r\n",
        "    ax.axes.yaxis.set_visible(False)  \r\n",
        "    plt.show()  \r\n"
      ],
      "execution_count": 43,
      "outputs": [
        {
          "output_type": "display_data",
          "data": {
            "image/png": "[encoded data removed]",
            "text/plain": [
              "<Figure size 432x288 with 1 Axes>"
            ]
          },
          "metadata": {
            "tags": []
          }
        },
        {
          "output_type": "display_data",
          "data": {
            "image/png": "[encoded data removed]",
            "text/plain": [
              "<Figure size 432x288 with 1 Axes>"
            ]
          },
          "metadata": {
            "tags": []
          }
        },
        {
          "output_type": "display_data",
          "data": {
            "image/png": "[encoded data removed]",
            "text/plain": [
              "<Figure size 432x288 with 1 Axes>"
            ]
          },
          "metadata": {
            "tags": []
          }
        }
      ]
    },
    {
      "cell_type": "markdown",
      "metadata": {
        "id": "IAXrjSLkFhU_"
      },
      "source": [
        "# Menamakan Cluster"
      ]
    },
    {
      "cell_type": "code",
      "metadata": {
        "colab": {
          "base_uri": "https://localhost:8080/"
        },
        "id": "u5dTday7FkpZ",
        "outputId": "ebf32471-41f7-458c-e1a6-84ecc72f336b"
      },
      "source": [
        "# Mapping nama kolom  \r\n",
        "df_final['segmen'] = df_final['cluster'].map({  \r\n",
        "    0: 'Diamond Young Member',  \r\n",
        "    1: 'Diamond Senior Member',  \r\n",
        "    2: 'Silver Member',  \r\n",
        "    3: 'Gold Young Member',  \r\n",
        "    4: 'Gold Senior Member'  \r\n",
        "})  \r\n",
        "\r\n",
        "print(df_final.info())\r\n",
        "print(df_final.head())  \r\n"
      ],
      "execution_count": 44,
      "outputs": [
        {
          "output_type": "stream",
          "text": [
            "<class 'pandas.core.frame.DataFrame'>\n",
            "RangeIndex: 50 entries, 0 to 49\n",
            "Data columns (total 9 columns):\n",
            " #   Column               Non-Null Count  Dtype \n",
            "---  ------               --------------  ----- \n",
            " 0   Customer_ID          50 non-null     object\n",
            " 1   Nama Pelanggan       50 non-null     object\n",
            " 2   Jenis Kelamin        50 non-null     object\n",
            " 3   Umur                 50 non-null     int64 \n",
            " 4   Profesi              50 non-null     object\n",
            " 5   Tipe Residen         50 non-null     object\n",
            " 6   NilaiBelanjaSetahun  50 non-null     int64 \n",
            " 7   cluster              50 non-null     uint16\n",
            " 8   segmen               50 non-null     object\n",
            "dtypes: int64(2), object(6), uint16(1)\n",
            "memory usage: 3.3+ KB\n",
            "None\n",
            "  Customer_ID       Nama Pelanggan  ... cluster                 segmen\n",
            "0    CUST-001         Budi Anggara  ...       1  Diamond Senior Member\n",
            "1    CUST-002     Shirley Ratuwati  ...       0   Diamond Young Member\n",
            "2    CUST-003         Agus Cahyono  ...       2          Silver Member\n",
            "3    CUST-004     Antonius Winarta  ...       2          Silver Member\n",
            "4    CUST-005  Ibu Sri Wahyuni, IR  ...       3      Gold Young Member\n",
            "\n",
            "[5 rows x 9 columns]\n"
          ],
          "name": "stdout"
        }
      ]
    },
    {
      "cell_type": "markdown",
      "metadata": {
        "id": "B86txZKoGs-n"
      },
      "source": [
        "# Kesimpulan\r\n",
        "\r\n",
        "* Cluster 0: Diamond Young Entrepreneur, isi cluster ini adalah para wiraswasta yang memiliki nilai transaksi rata-rata mendekati 10 juta. Selain itu isi dari cluster ini memiliki umur sekitar 18 - 41 tahun dengan rata-ratanya adalah 29 tahun.\r\n",
        "* Cluster 1: Diamond Senior Entrepreneur, isi cluster ini adalah para wiraswata yang memiliki nilai transaksi rata-rata mendekati 10 juta. Isi dari cluster ini memiliki umur sekitar 45 - 64 tahun dengan rata-ratanya adalah 55 tahun.\r\n",
        "* Cluster 2: Silver Students, isi cluster ini adalah para pelajar dan mahasiswa dengan rata-rata umur mereka adalah 16 tahun dan nilai belanja setahun mendekati 3 juta.\r\n",
        "* Cluster 3: Gold Young Member, isi cluster ini adalah para professional dan ibu rumah tangga yang berusia muda dengan rentang umur sekitar 20 - 40 tahun dan dengan rata-rata 30 tahun dan nilai belanja setahun nya mendekati 6 juta.\r\n",
        "* Cluster 4: Gold Senior Member, isi cluster ini adalah para professional dan ibu rumah tangga yang berusia tua dengan rentang umur 46 - 63 tahun dan dengan rata-rata 53 tahun dan nilai belanja setahun nya mendekati 6 juta."
      ]
    },
    {
      "cell_type": "markdown",
      "metadata": {
        "id": "tj9df_o6G8DB"
      },
      "source": [
        "# Mengoprasikan Model\r\n",
        "**Membuat Data baru**"
      ]
    },
    {
      "cell_type": "code",
      "metadata": {
        "colab": {
          "base_uri": "https://localhost:8080/"
        },
        "id": "OyppKqL7HA7Z",
        "outputId": "de749f07-2d64-463f-990a-e95954561c31"
      },
      "source": [
        "# Data Baru  \r\n",
        "data = [{  \r\n",
        "    'Customer_ID': 'CUST-100' ,  \r\n",
        "    'Nama Pelanggan': 'Joko' ,  \r\n",
        "    'Jenis Kelamin': 'Pria',  \r\n",
        "    'Umur': 45,  \r\n",
        "    'Profesi': 'Wiraswasta',  \r\n",
        "    'Tipe Residen': 'Cluster' ,  \r\n",
        "    'NilaiBelanjaSetahun': 8230000  \r\n",
        "      \r\n",
        "}]  \r\n",
        "  \r\n",
        "# Membuat Data Frame  \r\n",
        "new_df = pd.DataFrame(data)  \r\n",
        "  \r\n",
        "# Melihat Data  \r\n",
        "print(new_df)  "
      ],
      "execution_count": 45,
      "outputs": [
        {
          "output_type": "stream",
          "text": [
            "  Customer_ID Nama Pelanggan  ... Tipe Residen  NilaiBelanjaSetahun\n",
            "0    CUST-100           Joko  ...      Cluster              8230000\n",
            "\n",
            "[1 rows x 7 columns]\n"
          ],
          "name": "stdout"
        }
      ]
    },
    {
      "cell_type": "markdown",
      "metadata": {
        "id": "4ELDPcLBJdz3"
      },
      "source": [
        "# Membuat fungsi Data Pemprosessan"
      ]
    },
    {
      "cell_type": "code",
      "metadata": {
        "colab": {
          "base_uri": "https://localhost:8080/"
        },
        "id": "nV1diSlHJiDm",
        "outputId": "b82361f0-07b6-4739-bed0-2d112db2a366"
      },
      "source": [
        "def data_preprocess(data):  \r\n",
        "    # Konversi Kategorikal data  \r\n",
        "    kolom_kategorikal = ['Jenis Kelamin', 'Profesi', 'Tipe Residen']  \r\n",
        "      \r\n",
        "    df_encode = data[kolom_kategorikal].copy()  \r\n",
        "  \r\n",
        "    ## Jenis Kelamin   \r\n",
        "    df_encode['Jenis Kelamin'] = df_encode['Jenis Kelamin'].map({  \r\n",
        "        'Pria': 0,  \r\n",
        "        'Wanita' : 1  \r\n",
        "    })  \r\n",
        "      \r\n",
        "    ## Profesi  \r\n",
        "    df_encode['Profesi'] = df_encode['Profesi'].map({  \r\n",
        "        'Ibu Rumah Tangga': 0,  \r\n",
        "        'Mahasiswa' : 1,  \r\n",
        "        'Pelajar': 2,  \r\n",
        "        'Professional': 3,  \r\n",
        "        'Wiraswasta': 4  \r\n",
        "    })  \r\n",
        "      \r\n",
        "    ## Tipe Residen  \r\n",
        "    df_encode['Tipe Residen'] = df_encode['Tipe Residen'].map({  \r\n",
        "        'Cluster': 0,  \r\n",
        "        'Sector' : 1  \r\n",
        "    })  \r\n",
        "      \r\n",
        "    # Standardisasi Numerical Data  \r\n",
        "    kolom_numerik = ['Umur','NilaiBelanjaSetahun']  \r\n",
        "    df_std = data[kolom_numerik].copy()  \r\n",
        "      \r\n",
        "    ## Standardisasi Kolom Umur  \r\n",
        "    df_std['Umur'] = (df_std['Umur'] - 37.5)/14.7  \r\n",
        "      \r\n",
        "    ## Standardisasi Kolom Nilai Belanja Setahun  \r\n",
        "    df_std['NilaiBelanjaSetahun'] = (df_std['NilaiBelanjaSetahun'] - 7069874.8)/2590619.0  \r\n",
        "      \r\n",
        "    # Menggabungkan Kategorikal dan numerikal data  \r\n",
        "    df_model = df_encode.merge(df_std, left_index = True,  \r\n",
        "                           right_index=True, how = 'left')  \r\n",
        "      \r\n",
        "    return df_model  \r\n",
        "  \r\n",
        "# Menjalankan fungsi  \r\n",
        "new_df_model = data_preprocess(new_df)  \r\n",
        "  \r\n",
        "print(new_df_model) \r\n"
      ],
      "execution_count": 46,
      "outputs": [
        {
          "output_type": "stream",
          "text": [
            "   Jenis Kelamin  Profesi  Tipe Residen      Umur  NilaiBelanjaSetahun\n",
            "0              0        4             0  0.510204             0.447818\n"
          ],
          "name": "stdout"
        }
      ]
    },
    {
      "cell_type": "markdown",
      "metadata": {
        "id": "SI8yS8YZKPjF"
      },
      "source": [
        "# Memanggil Model dan Melakukan Prediksi"
      ]
    },
    {
      "cell_type": "code",
      "metadata": {
        "colab": {
          "base_uri": "https://localhost:8080/"
        },
        "id": "gNasakayKUK2",
        "outputId": "5c73d20a-b57f-403c-a250-1665ef185d62"
      },
      "source": [
        "def modelling (data):  \r\n",
        "      \r\n",
        "    # Memanggil Model  \r\n",
        "    kpoto = pickle.load(open('cluster.pkl', 'rb'))  \r\n",
        "      \r\n",
        "    # Melakukan Prediksi  \r\n",
        "    clusters = kpoto.predict(data,categorical=[0,1,2])  \r\n",
        "      \r\n",
        "    return clusters  \r\n",
        "  \r\n",
        "# Menjalankan Fungsi  \r\n",
        "clusters = modelling(new_df_model)  \r\n",
        "  \r\n",
        "print(clusters)  \r\n"
      ],
      "execution_count": 48,
      "outputs": [
        {
          "output_type": "stream",
          "text": [
            "[1]\n"
          ],
          "name": "stdout"
        }
      ]
    },
    {
      "cell_type": "markdown",
      "metadata": {
        "id": "rWBFG5X3L-Zt"
      },
      "source": [
        "# Menamakan Segmen"
      ]
    },
    {
      "cell_type": "code",
      "metadata": {
        "colab": {
          "base_uri": "https://localhost:8080/"
        },
        "id": "2SXE60QRMAx3",
        "outputId": "f151c242-abec-4e88-dbf0-405030d11708"
      },
      "source": [
        "def menamakan_segmen (data_asli, clusters):  \r\n",
        "      \r\n",
        "    # Menggabungkan cluster dan data asli  \r\n",
        "    final_df = data_asli.copy()  \r\n",
        "    final_df['cluster'] = clusters\r\n",
        "      \r\n",
        "    # Menamakan segmen  \r\n",
        "    final_df['segmen'] = final_df['cluster'].map({  \r\n",
        "        0: 'Diamond Young Member',  \r\n",
        "        1: 'Diamond Senior Member',  \r\n",
        "        2: 'Silver Students',  \r\n",
        "        3: 'Gold Young Member',  \r\n",
        "        4: 'Gold Senior Member'  \r\n",
        "    })  \r\n",
        "      \r\n",
        "    return final_df\r\n",
        "  \r\n",
        "# Menjalankan Fungsi  \r\n",
        "new_final_df = menamakan_segmen(new_df,clusters)  \r\n",
        "  \r\n",
        "print(new_final_df)  \r\n"
      ],
      "execution_count": 49,
      "outputs": [
        {
          "output_type": "stream",
          "text": [
            "  Customer_ID Nama Pelanggan  ... cluster                 segmen\n",
            "0    CUST-100           Joko  ...       1  Diamond Senior Member\n",
            "\n",
            "[1 rows x 9 columns]\n"
          ],
          "name": "stdout"
        }
      ]
    }
  ]
}